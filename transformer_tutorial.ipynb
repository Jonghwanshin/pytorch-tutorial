{
  "nbformat": 4,
  "nbformat_minor": 2,
  "metadata": {
    "kernelspec": {
      "name": "python3",
      "display_name": "Python 3.7.0 64-bit ('pytorch': conda)"
    },
    "language_info": {
      "codemirror_mode": {
        "name": "ipython",
        "version": 3
      },
      "file_extension": ".py",
      "mimetype": "text/x-python",
      "name": "python",
      "nbconvert_exporter": "python",
      "pygments_lexer": "ipython3",
      "version": "3.7.0"
    },
    "colab": {
      "name": "transformer_tutorial.ipynb",
      "provenance": []
    },
    "interpreter": {
      "hash": "9a42640f174aa560563376ee044dcf790d7bf5ca5a64d4bff7b1b2c4f9b39583"
    }
  },
  "cells": [
    {
      "cell_type": "code",
      "execution_count": null,
      "source": [
        "%matplotlib inline"
      ],
      "outputs": [],
      "metadata": {
        "id": "x3eW45YtUzug"
      }
    },
    {
      "cell_type": "markdown",
      "source": [
        "\n",
        "nn.Transformer 와 TorchText 로 시퀀스-투-시퀀스(Sequence-to-Sequence) 모델링하기\n",
        "=================================================================================\n",
        "\n",
        "이 튜토리얼에서는 [`nn.Transformer`](https://pytorch.org/docs/stable/generated/torch.nn.Transformer.html) 모듈을 이용하는 시퀀스-투-시퀀스(Sequence-to-Sequence) 모델을 학습하는 방법을 배워보겠습니다.  \n",
        "\n",
        "PyTorch 1.2 버젼에는 [`Attention is All You Need`](https://arxiv.org/pdf/1706.03762.pdf) 논문에 기반한 표준 트랜스포머(transformer) 모듈을 포함하고 있습니다.  \n",
        "트랜스포머 모델은 더 높은 수준의 병렬화(parallelization)가 가능하면서도 많은 시퀀스-투-시퀀스 문제들에서 품질이 우수함이 입증되었습니다.  \n",
        "``nn.Transformer`` 모듈은 입력(input) 과 출력(output) 사이의 전역적인 의존성(global dependencies)을 나타내기 위하여 전적으로 어텐션(attention) 메커니즘에 의존합니다.  \n",
        "(최근에 또 다른 모듈이 [`nn.MultiheadAttention`](https://pytorch.org/docs/stable/generated/torch.nn.MultiheadAttention.html) 으로 구현되었습니다.)  \n",
        "``nn.Transformer`` 모듈은 현재 모듈화가 매우 잘 되어 있어, 다음과 같은 단일 컴포넌트 (이 튜토리얼의 [`nn.TransformerEncoder`](https://pytorch.org/docs/stable/generated/torch.nn.TransformerEncoder.html) 와 같은) 는 쉽게 적용 및 구성될 수 있습니다.  \n",
        "\n",
        "![](resources/images/transformer_architecture.jpg?raw=1)\n",
        "\n"
      ],
      "metadata": {
        "id": "OEsWKz0lUzuh"
      }
    },
    {
      "cell_type": "markdown",
      "source": [
        "## 모델 정의하기\n",
        "----------------\n",
        "\n",
        "이 튜토리얼에서, 우리는 ``nn.TransformerEncoder`` 모델을 언어 모델링(language modeling) 과제에 대해서 학습시킬 것입니다.  \n",
        "언어 모델링 과제는 주어진 단어 (또는 단어의 시퀀스) 가 다음에 이어지는 단어 시퀀스를 따를 가능성(likelihood)에 대한 확률을 할당하는 것입니다.  \n",
        "먼저, 토큰(token) 들의 시퀀스가 임베딩(embedding) 레이어로 전달되며, 이어서 포지셔널 인코딩(positional encoding) 레이어가 각 단어의 순서를 설명합니다.  \n",
        "(더 자세한 설명은 다음 단락을 참고해주세요.)  \n",
        "``nn.TransformerEncoder`` 는 여러 개의 [`nn.TransformerEncoderLayer`](https://pytorch.org/docs/stable/generated/torch.nn.TransformerEncoderLayer.html) 레이어로 구성되어 있습니다.  \n",
        "``nn.TransformerEncoder`` 내부의 셀프-어텐션(self-attention) 레이어들은 시퀀스 안에서의 이전 포지션에만 집중하도록 허용되기 때문에, 입력(input) 순서와 함께, 정사각 형태의 어텐션 마스크(attention mask) 가 필요합니다.  \n",
        "언어 모델링 과제를 위해서, 미래의 포지션에 있는 모든 토큰들은 마스킹 되어야(가려져야) 합니다.  \n",
        "실제 단어를 얻기 위해서, ``nn.TransformerEncoder`` 의 출력은 로그-소프트맥스(log-Softmax) 로 이어지는 최종 선형(Linear) 레이어로 전달 됩니다.  "
      ],
      "metadata": {
        "id": "OIoVcPlNUzui"
      }
    },
    {
      "cell_type": "code",
      "execution_count": 1,
      "source": [
        "import math\n",
        "\n",
        "import torch\n",
        "import torch.nn as nn\n",
        "import torch.nn.functional as F\n",
        "from torch.nn import TransformerEncoder, TransformerEncoderLayer\n",
        "\n",
        "class TransformerModel(nn.Module):\n",
        "\n",
        "    def __init__(self, ntoken, ninp, nhead, nhid, nlayers, dropout=0.5):\n",
        "        super(TransformerModel, self).__init__()\n",
        "        self.model_type = 'Transformer'\n",
        "        self.pos_encoder = PositionalEncoding(ninp, dropout)\n",
        "        encoder_layers = TransformerEncoderLayer(ninp, nhead, nhid, dropout)\n",
        "        self.transformer_encoder = TransformerEncoder(encoder_layers, nlayers)\n",
        "        self.encoder = nn.Embedding(ntoken, ninp)\n",
        "        self.ninp = ninp\n",
        "        self.decoder = nn.Linear(ninp, ntoken)\n",
        "\n",
        "        self.init_weights()\n",
        "\n",
        "    def generate_square_subsequent_mask(self, sz):\n",
        "        mask = (torch.triu(torch.ones(sz, sz)) == 1).transpose(0, 1)\n",
        "        mask = mask.float().masked_fill(mask == 0, float('-inf')).masked_fill(mask == 1, float(0.0))\n",
        "        return mask\n",
        "\n",
        "    def init_weights(self):\n",
        "        initrange = 0.1\n",
        "        self.encoder.weight.data.uniform_(-initrange, initrange)\n",
        "        self.decoder.bias.data.zero_()\n",
        "        self.decoder.weight.data.uniform_(-initrange, initrange)\n",
        "\n",
        "    def forward(self, src, src_mask):\n",
        "        src = self.encoder(src) * math.sqrt(self.ninp)\n",
        "        src = self.pos_encoder(src)\n",
        "        output = self.transformer_encoder(src, src_mask)\n",
        "        output = self.decoder(output)\n",
        "        return output"
      ],
      "outputs": [],
      "metadata": {
        "id": "-Q0D8m8bUzuj"
      }
    },
    {
      "cell_type": "markdown",
      "source": [
        "``PositionalEncoding`` 모듈은 시퀀스 안에서 토큰의 상대적인 또는 절대적인 포지션에 대한 어떤 정보를 주입합니다.\n",
        "포지셔널 인코딩은 임베딩과 합칠 수 있도록 똑같은 차원을 가집니다.\n",
        "여기에서, 우리는 다른 주파수(frequency) 의 ``sine`` 과 ``cosine`` 함수를 사용합니다.\n",
        "\n",
        "PositionalEncoding 설명\n",
        "\n",
        "* 모델 구조에서 자연스럽게 sequential information을 얻지 못하는 경우에 대해 정보를 강제하는 방식\n",
        "* 보통 sequential data를 Recurrent Neural Network (RNN) 외의 다른 모델로 다루고 싶을 때 많이 사용\n",
        "* 문장의 embedding은 문장을 이루는 각 token의 embedding을 조합하는 방식으로 얻어진다. 이 때 position에 대한 정보가 없다면 모델은 handful of chocolate과 chocolate of handful을 같은 의미로 인식\n",
        "* RNN은 모델 구조 자체에 순서를 반영할 수 있으나 CNN이나 Transformer는 불가능\n",
        "* PositionalEncoding은 token embedding vector에 곱해지는 정보로 각 sentence 순서의 가중치\n",
        "* Attention is all you need에서 사용된 방법은 sin과 cos 함수를 이용함, n+k 번째 vector와 n 번째 vector의 연관성을 학습하는데 여지를 주기 위함\n",
        "\n",
        "출처: Positional Encoding in NLP https://inmoonlight.github.io/2020/01/26/Positional-Encoding/"
      ],
      "metadata": {
        "id": "9w_clgX5Uzuj"
      }
    },
    {
      "cell_type": "code",
      "execution_count": 2,
      "source": [
        "class PositionalEncoding(nn.Module):\n",
        "\n",
        "    def __init__(self, d_model, dropout=0.1, max_len=5000):\n",
        "        super(PositionalEncoding, self).__init__()\n",
        "        self.dropout = nn.Dropout(p=dropout)\n",
        "\n",
        "        pe = torch.zeros(max_len, d_model)\n",
        "        position = torch.arange(0, max_len, dtype=torch.float).unsqueeze(1)\n",
        "        div_term = torch.exp(torch.arange(0, d_model, 2).float() * (-math.log(10000.0) / d_model))\n",
        "        pe[:, 0::2] = torch.sin(position * div_term)\n",
        "        pe[:, 1::2] = torch.cos(position * div_term)\n",
        "        pe = pe.unsqueeze(0).transpose(0, 1)\n",
        "        self.register_buffer('pe', pe)\n",
        "\n",
        "    def forward(self, x):\n",
        "        x = x + self.pe[:x.size(0), :]\n",
        "        return self.dropout(x)"
      ],
      "outputs": [],
      "metadata": {
        "id": "NYGgFtajUzuj"
      }
    },
    {
      "cell_type": "markdown",
      "source": [
        "데이터 로드하고 배치 만들기\n",
        "-----------------------------\n",
        "\n",
        "\n"
      ],
      "metadata": {
        "id": "AATgxhs5Uzuk"
      }
    },
    {
      "cell_type": "markdown",
      "source": [
        "이 튜토리얼에서는 ``torchtext`` 를 사용하여 Wikitext-2 데이터셋을 생성합니다.\n",
        "단어 오브젝트는 훈련 데이터셋(train dataset) 에 의하여 만들어지고, 토큰을 텐서(tensor)로 수치화하는데 사용됩니다.\n",
        "시퀀스 데이터로부터 시작하여, ``batchify()`` 함수는 데이터셋을 컬럼들로 배열하고, ``batch_size`` 사이즈의 배치들로 나눈 후에 남은 모든 토큰을 버립니다.\n",
        "예를 들어, 알파벳을 시퀀스(총 길이 26) 로 생각하고 배치 사이즈를 4라고 한다면, 우리는 알파벳을 길이가 6인 4개의 시퀀스로 나눌 수 있습니다.\n",
        "\n",
        "\\begin{align}\\begin{bmatrix}\n",
        "  \\text{A} & \\text{B} & \\text{C} & \\ldots & \\text{X} & \\text{Y} & \\text{Z}\n",
        "  \\end{bmatrix}\n",
        "  \\Rightarrow\n",
        "  \\begin{bmatrix}\n",
        "  \\begin{bmatrix}\\text{A} \\\\ \\text{B} \\\\ \\text{C} \\\\ \\text{D} \\\\ \\text{E} \\\\ \\text{F}\\end{bmatrix} &\n",
        "  \\begin{bmatrix}\\text{G} \\\\ \\text{H} \\\\ \\text{I} \\\\ \\text{J} \\\\ \\text{K} \\\\ \\text{L}\\end{bmatrix} &\n",
        "  \\begin{bmatrix}\\text{M} \\\\ \\text{N} \\\\ \\text{O} \\\\ \\text{P} \\\\ \\text{Q} \\\\ \\text{R}\\end{bmatrix} &\n",
        "  \\begin{bmatrix}\\text{S} \\\\ \\text{T} \\\\ \\text{U} \\\\ \\text{V} \\\\ \\text{W} \\\\ \\text{X}\\end{bmatrix}\n",
        "  \\end{bmatrix}\\end{align}\n",
        "\n",
        "이 컬럼들은 모델에 의해서 독립적으로 취급되며, 이것은 더 효율적인 배치 프로세싱(batch processing) 이 가능하지만, ``G`` 와 ``F`` 의 의존성이 학습될 수 없다는 것을 의미합니다."
      ],
      "metadata": {
        "id": "5qQJUvftUzuk"
      }
    },
    {
      "cell_type": "code",
      "execution_count": 13,
      "source": [
        "import torchtext\n",
        "from torchtext.data.utils import get_tokenizer\n",
        "\n",
        "TEXT = torchtext.data.Field(tokenize=get_tokenizer(\"basic_english\"),\n",
        "                            init_token='<sos>',\n",
        "                            eos_token='<eos>',\n",
        "                            lower=True)\n",
        "\n",
        "train_data, val_data, test_data = torchtext.datasets.WikiText2.splits(TEXT)\n",
        "TEXT.build_vocab(train_data)\n",
        "device = torch.device(\"cuda\" if torch.cuda.is_available() else \"cpu\")\n",
        "\n",
        "def batchify(data, bsz):\n",
        "    data = TEXT.numericalize([data.examples[0].text])\n",
        "    # 데이터셋을 bsz 파트들로 나눕니다.\n",
        "    nbatch = data.size(0) // bsz\n",
        "    # 깔끔하게 나누어 떨어지지 않는 추가적인 부분(나머지들) 은 잘라냅니다.\n",
        "    data = data.narrow(0, 0, nbatch * bsz)\n",
        "    # 데이터에 대하여 bsz 배치들로 동등하게 나눕니다.\n",
        "    data = data.view(bsz, -1).t().contiguous()\n",
        "    return data.to(device)\n",
        "\n",
        "batch_size = 20\n",
        "eval_batch_size = 10\n",
        "train_data = batchify(train_data, batch_size)\n",
        "val_data = batchify(val_data, eval_batch_size)\n",
        "test_data = batchify(test_data, eval_batch_size)"
      ],
      "outputs": [],
      "metadata": {
        "id": "6hymNeOnUzuk"
      }
    },
    {
      "cell_type": "markdown",
      "source": [
        "## 입력(input) 과 타겟(target) 시퀀스를 생성하기 위한 함수들\n",
        "----------------------------------------------------------\n",
        "\n",
        "``get_batch()`` 함수는 트랜스포머 모델을 위한 입력과 타겟 시퀀스를 생성합니다.  \n",
        "이 함수는 소스 데이터를 ``bptt`` 길이를 가진 덩어리로 세분화 합니다.  \n",
        "언어 모델링 과제를 위해서, 모델은 다음 단어인 ``Target`` 이 필요 합니다.  \n",
        "예를 들어, ``bptt`` 의 값이 2 라면, 우리는 ``i`` = 0 일 때 다음의 2 개의 변수(Variable) 를 얻을 수 있습니다:  \n",
        "\n",
        "![](resources/images/transformer_input_target1.png)\n",
        "\n",
        "\n",
        "변수 덩어리는 트랜스포머 모델의 ``S`` 차원과 일치하는 0 차원에 해당합니다.\n",
        "배치 차원 ``N`` 은 1 차원에 해당합니다."
      ],
      "metadata": {
        "id": "JroLZ9lUUzul"
      }
    },
    {
      "cell_type": "code",
      "execution_count": 10,
      "source": [
        "bptt = 35\n",
        "def get_batch(source, i):\n",
        "    seq_len = min(bptt, len(source) - 1 - i)\n",
        "    data = source[i:i+seq_len]\n",
        "    target = source[i+1:i+1+seq_len].reshape(-1)\n",
        "    return data, target"
      ],
      "outputs": [],
      "metadata": {
        "id": "j9fjedAZUzul"
      }
    },
    {
      "cell_type": "markdown",
      "source": [
        "## 인스턴스(instance) 초기화하기\n",
        "--------------------------------\n",
        "\n",
        "모델은 아래와 같은 하이퍼파라미터(hyperparameter) 로 세팅 됩니다.\n",
        "단어 사이즈는 단어 오브젝트의 길이와 일치 합니다."
      ],
      "metadata": {
        "id": "T8lTUQmHUzum"
      }
    },
    {
      "cell_type": "code",
      "execution_count": 14,
      "source": [
        "ntokens = len(TEXT.vocab.stoi) # 단어 사전(어휘집)의 크기\n",
        "emsize = 200 # 임베딩 차원\n",
        "nhid = 200 # nn.TransformerEncoder 에서 피드포워드 네트워크(feedforward network) 모델의 차원\n",
        "nlayers = 2 # nn.TransformerEncoder 내부의 nn.TransformerEncoderLayer 개수\n",
        "nhead = 2 # 멀티헤드 어텐션(multi-head attention) 모델의 헤드 개수\n",
        "dropout = 0.2 # 드랍아웃(dropout) 값\n",
        "model = TransformerModel(ntokens, emsize, nhead, nhid, nlayers, dropout).to(device)"
      ],
      "outputs": [],
      "metadata": {
        "id": "TKftayOrUzum"
      }
    },
    {
      "cell_type": "markdown",
      "source": [
        "모델 실행하기\n",
        "-------------\n",
        "\n",
        "\n"
      ],
      "metadata": {
        "id": "KYtutXhTUzum"
      }
    },
    {
      "cell_type": "markdown",
      "source": [
        "* 손실(loss) 추적: [`CrossEntropyLoss`](https://pytorch.org/docs/master/nn.html?highlight=crossentropyloss#torch.nn.CrossEntropyLoss)\n",
        "* 옵티마이저(optimizer): [`SGD`](https://pytorch.org/docs/master/optim.html?highlight=sgd#torch.optim.SGD)\n",
        "* 학습률(learning rate): initial- 5.0, [`StepLR`](https://pytorch.org/docs/master/optim.html?highlight=steplr#torch.optim.lr_scheduler.StepLR) 이용하여 learning rate 조정\n",
        "* Clip norm([`nn.utils.clip_grad_norm`](https://pytorch.org/docs/master/nn.html?highlight=nn%20utils%20clip_grad_norm#torch.nn.utils.clip_grad_norm_)) 이용: 기울기 폭발(gradient exploding) 을 방지하기 위하여 모든 기울기를 함께 스케일(scale) 하는 기법\n",
        "\n",
        "\n"
      ],
      "metadata": {
        "id": "LA_ZhWj-Uzum"
      }
    },
    {
      "cell_type": "code",
      "execution_count": 15,
      "source": [
        "import time\n",
        "\n",
        "criterion = nn.CrossEntropyLoss()\n",
        "lr = 5.0 # 학습률\n",
        "optimizer = torch.optim.SGD(model.parameters(), lr=lr)\n",
        "scheduler = torch.optim.lr_scheduler.StepLR(optimizer, 1.0, gamma=0.95)\n",
        "\n",
        "def train():\n",
        "    model.train() # 학습 모드를 시작합니다.\n",
        "    total_loss = 0.\n",
        "    start_time = time.time()\n",
        "    src_mask = model.generate_square_subsequent_mask(bptt).to(device)\n",
        "    for batch, i in enumerate(range(0, train_data.size(0) - 1, bptt)):\n",
        "        data, targets = get_batch(train_data, i)\n",
        "        optimizer.zero_grad()\n",
        "        if data.size(0) != bptt:\n",
        "            src_mask = model.generate_square_subsequent_mask(data.size(0)).to(device)\n",
        "        output = model(data, src_mask)\n",
        "        loss = criterion(output.view(-1, ntokens), targets)\n",
        "        loss.backward()\n",
        "        torch.nn.utils.clip_grad_norm_(model.parameters(), 0.5)\n",
        "        optimizer.step()\n",
        "\n",
        "        total_loss += loss.item()\n",
        "        log_interval = 200\n",
        "        if batch % log_interval == 0 and batch > 0:\n",
        "            cur_loss = total_loss / log_interval\n",
        "            elapsed = time.time() - start_time\n",
        "            print('| epoch {:3d} | {:5d}/{:5d} batches | '\n",
        "                  'lr {:02.2f} | ms/batch {:5.2f} | '\n",
        "                  'loss {:5.2f} | ppl {:8.2f}'.format(\n",
        "                    epoch, batch, len(train_data) // bptt, scheduler.get_last_lr()[0],\n",
        "                    elapsed * 1000 / log_interval,\n",
        "                    cur_loss, math.exp(cur_loss)))\n",
        "            total_loss = 0\n",
        "            start_time = time.time()\n",
        "\n",
        "def evaluate(eval_model, data_source):\n",
        "    eval_model.eval() # 평가 모드를 시작합니다.\n",
        "    total_loss = 0.\n",
        "    src_mask = model.generate_square_subsequent_mask(bptt).to(device)\n",
        "    with torch.no_grad():\n",
        "        for i in range(0, data_source.size(0) - 1, bptt):\n",
        "            data, targets = get_batch(data_source, i)\n",
        "            if data.size(0) != bptt:\n",
        "                src_mask = model.generate_square_subsequent_mask(data.size(0)).to(device)\n",
        "            output = eval_model(data, src_mask)\n",
        "            output_flat = output.view(-1, ntokens)\n",
        "            total_loss += len(data) * criterion(output_flat, targets).item()\n",
        "    return total_loss / (len(data_source) - 1)"
      ],
      "outputs": [],
      "metadata": {
        "id": "YneHJXgAUzum"
      }
    },
    {
      "cell_type": "markdown",
      "source": [
        "에포크 내에서 반복됩니다. 만약 검증 오차(validation loss) 가 우리가 지금까지 관찰한 것 중 최적이라면 모델을 저장합니다.\n",
        "매 에포크 이후에 학습률을 조절합니다.\n",
        "\n"
      ],
      "metadata": {
        "id": "9RfuVf6OUzun"
      }
    },
    {
      "cell_type": "code",
      "execution_count": 16,
      "source": [
        "best_val_loss = float(\"inf\")\n",
        "epochs = 3 # 에포크 수\n",
        "best_model = None\n",
        "\n",
        "for epoch in range(1, epochs + 1):\n",
        "    epoch_start_time = time.time()\n",
        "    train()\n",
        "    val_loss = evaluate(model, val_data)\n",
        "    print('-' * 89)\n",
        "    print('| end of epoch {:3d} | time: {:5.2f}s | valid loss {:5.2f} | '\n",
        "          'valid ppl {:8.2f}'.format(epoch, (time.time() - epoch_start_time),\n",
        "                                     val_loss, math.exp(val_loss)))\n",
        "    print('-' * 89)\n",
        "\n",
        "    if val_loss < best_val_loss:\n",
        "        best_val_loss = val_loss\n",
        "        best_model = model\n",
        "\n",
        "    scheduler.step()"
      ],
      "outputs": [
        {
          "output_type": "stream",
          "name": "stdout",
          "text": [
            "| epoch   1 |   200/ 2981 batches | lr 5.00 | ms/batch 271.71 | loss  8.07 | ppl  3208.97\n",
            "| epoch   1 |   400/ 2981 batches | lr 5.00 | ms/batch 271.36 | loss  6.80 | ppl   898.89\n",
            "| epoch   1 |   600/ 2981 batches | lr 5.00 | ms/batch 273.15 | loss  6.37 | ppl   582.34\n",
            "| epoch   1 |   800/ 2981 batches | lr 5.00 | ms/batch 273.72 | loss  6.24 | ppl   511.08\n",
            "| epoch   1 |  1000/ 2981 batches | lr 5.00 | ms/batch 277.62 | loss  6.12 | ppl   456.28\n",
            "| epoch   1 |  1200/ 2981 batches | lr 5.00 | ms/batch 277.15 | loss  6.09 | ppl   442.74\n",
            "| epoch   1 |  1400/ 2981 batches | lr 5.00 | ms/batch 280.88 | loss  6.04 | ppl   420.09\n",
            "| epoch   1 |  1600/ 2981 batches | lr 5.00 | ms/batch 275.11 | loss  6.05 | ppl   423.63\n",
            "| epoch   1 |  1800/ 2981 batches | lr 5.00 | ms/batch 275.94 | loss  5.96 | ppl   389.51\n",
            "| epoch   1 |  2000/ 2981 batches | lr 5.00 | ms/batch 277.35 | loss  5.97 | ppl   389.76\n",
            "| epoch   1 |  2200/ 2981 batches | lr 5.00 | ms/batch 278.94 | loss  5.85 | ppl   345.55\n",
            "| epoch   1 |  2400/ 2981 batches | lr 5.00 | ms/batch 281.29 | loss  5.90 | ppl   364.65\n",
            "| epoch   1 |  2600/ 2981 batches | lr 5.00 | ms/batch 282.96 | loss  5.90 | ppl   365.72\n"
          ]
        }
      ],
      "metadata": {
        "id": "VCNJLO27Uzun"
      }
    },
    {
      "cell_type": "markdown",
      "source": [
        "평가 데이터셋(test dataset)으로 모델을 평가하기\n",
        "-------------------------------------------------\n",
        "\n",
        "평가 데이터셋에 대한 결과를 확인하기 위해서 최고의 모델을 적용합니다.\n",
        "\n"
      ],
      "metadata": {
        "id": "zH5rO0nDUzun"
      }
    },
    {
      "cell_type": "code",
      "execution_count": null,
      "source": [
        "test_loss = evaluate(best_model, test_data)\n",
        "print('=' * 89)\n",
        "print('| End of training | test loss {:5.2f} | test ppl {:8.2f}'.format(\n",
        "    test_loss, math.exp(test_loss)))\n",
        "print('=' * 89)"
      ],
      "outputs": [],
      "metadata": {
        "id": "gcdc5aXHUzun"
      }
    }
  ]
}